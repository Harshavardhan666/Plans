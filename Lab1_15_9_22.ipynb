{
  "nbformat": 4,
  "nbformat_minor": 0,
  "metadata": {
    "colab": {
      "provenance": [],
      "authorship_tag": "ABX9TyNOoJmisXHT/o9US/Xy0aLh",
      "include_colab_link": true
    },
    "kernelspec": {
      "name": "python3",
      "display_name": "Python 3"
    },
    "language_info": {
      "name": "python"
    }
  },
  "cells": [
    {
      "cell_type": "markdown",
      "metadata": {
        "id": "view-in-github",
        "colab_type": "text"
      },
      "source": [
        "<a href=\"https://colab.research.google.com/github/Harshavardhan666/Plans/blob/master/Lab1_15_9_22.ipynb\" target=\"_parent\"><img src=\"https://colab.research.google.com/assets/colab-badge.svg\" alt=\"Open In Colab\"/></a>"
      ]
    },
    {
      "cell_type": "code",
      "execution_count": null,
      "metadata": {
        "colab": {
          "base_uri": "https://localhost:8080/"
        },
        "id": "fkQy7hZMeMFc",
        "outputId": "687148df-c56f-4044-e0cc-0f8264277e88"
      },
      "outputs": [
        {
          "output_type": "stream",
          "name": "stdout",
          "text": [
            "Thu Sep 15 09:32:00 2022\n"
          ]
        }
      ],
      "source": [
        "import time\n",
        "print(time.ctime())"
      ]
    },
    {
      "cell_type": "code",
      "source": [
        "from google.colab import drive\n",
        "drive.mount('/content/drive')"
      ],
      "metadata": {
        "colab": {
          "base_uri": "https://localhost:8080/"
        },
        "id": "1opz3LJUfWT_",
        "outputId": "5970add1-0cd1-45e4-dc6c-7567809a50d5"
      },
      "execution_count": null,
      "outputs": [
        {
          "output_type": "stream",
          "name": "stdout",
          "text": [
            "Mounted at /content/drive\n"
          ]
        }
      ]
    },
    {
      "cell_type": "code",
      "source": [
        "def simple_interest(p,t,r):\n",
        "    print('The Principal Is',p)\n",
        "    print('The Time Period Is',t)\n",
        "    print('The Rate of Interest Is',r)\n",
        "    si = (p*t*r)/100\n",
        "    print('The Simple Interest Is',si)\n",
        "    return si\n",
        "simple_interest(8,6,8)"
      ],
      "metadata": {
        "colab": {
          "base_uri": "https://localhost:8080/"
        },
        "id": "KM4DHT0FiCLo",
        "outputId": "c73e981c-ce22-4b9a-a4c1-e459af9054da"
      },
      "execution_count": null,
      "outputs": [
        {
          "output_type": "stream",
          "name": "stdout",
          "text": [
            "The Principal Is 8\n",
            "The Time Period Is 6\n",
            "The Rate of Interest Is 8\n",
            "The Simple Interest Is 3.84\n"
          ]
        },
        {
          "output_type": "execute_result",
          "data": {
            "text/plain": [
              "3.84"
            ]
          },
          "metadata": {},
          "execution_count": 3
        }
      ]
    },
    {
      "cell_type": "code",
      "source": [
        "start=11\n",
        "end=25\n",
        "for val in range(start,end+1):\n",
        "    if val>1:\n",
        "        for n in range(2,val//2+2):\n",
        "          if(val%n)==0:\n",
        "            break\n",
        "          else:\n",
        "            if n==val//2+1:\n",
        "              print(val)\n"
      ],
      "metadata": {
        "colab": {
          "base_uri": "https://localhost:8080/"
        },
        "id": "YNRj8g8ajpGy",
        "outputId": "09a2d318-2307-4bca-9f8e-54d5427efc19"
      },
      "execution_count": null,
      "outputs": [
        {
          "output_type": "stream",
          "name": "stdout",
          "text": [
            "11\n",
            "13\n",
            "17\n",
            "19\n",
            "23\n"
          ]
        }
      ]
    },
    {
      "cell_type": "code",
      "source": [
        "def fun1(num):\n",
        "  if num>1:\n",
        "    fun1(num//2)\n",
        "  print(num%2,end='')\n",
        "\n",
        "number=int(input(\"Enter Any Number: \"))\n",
        "fun1(number)"
      ],
      "metadata": {
        "colab": {
          "base_uri": "https://localhost:8080/"
        },
        "id": "HBuMhTG8kzYL",
        "outputId": "97f0dd20-f21d-466e-dbc3-ea7b873653f6"
      },
      "execution_count": null,
      "outputs": [
        {
          "output_type": "stream",
          "name": "stdout",
          "text": [
            "Enter Any Number: 3\n",
            "11"
          ]
        }
      ]
    },
    {
      "cell_type": "code",
      "source": [
        "punctation = '''''!()-[]{};:'\"\\,<>./?@#$%^&*_~'''\n",
        "my_str = input(\"Enter A String: \")\n",
        "str1 = \"\"\n",
        "for char in my_str:\n",
        "  if char not in punctation:\n",
        "    str1=str1+char\n",
        "  print(str1)"
      ],
      "metadata": {
        "colab": {
          "base_uri": "https://localhost:8080/"
        },
        "id": "a0jP9vtmmv0x",
        "outputId": "d97976e7-7cf8-4d75-910a-a4098a09691a"
      },
      "execution_count": null,
      "outputs": [
        {
          "output_type": "stream",
          "name": "stdout",
          "text": [
            "Enter A String: ksjfn645232!@#$%^&*()~\n",
            "k\n",
            "ks\n",
            "ksj\n",
            "ksjf\n",
            "ksjfn\n",
            "ksjfn6\n",
            "ksjfn64\n",
            "ksjfn645\n",
            "ksjfn6452\n",
            "ksjfn64523\n",
            "ksjfn645232\n",
            "ksjfn645232\n",
            "ksjfn645232\n",
            "ksjfn645232\n",
            "ksjfn645232\n",
            "ksjfn645232\n",
            "ksjfn645232\n",
            "ksjfn645232\n",
            "ksjfn645232\n",
            "ksjfn645232\n",
            "ksjfn645232\n",
            "ksjfn645232\n"
          ]
        }
      ]
    },
    {
      "cell_type": "code",
      "source": [],
      "metadata": {
        "id": "yxCDiHQypolD"
      },
      "execution_count": null,
      "outputs": []
    }
  ]
}